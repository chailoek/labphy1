{
 "cells": [
  {
   "cell_type": "markdown",
   "id": "bf92458d-e434-44df-ba32-816f035122c4",
   "metadata": {
    "slideshow": {
     "slide_type": "slide"
    },
    "tags": []
   },
   "source": [
    "## <h1 style=\"text-align: center;\"> General Physics I</h1>"
   ]
  },
  {
   "cell_type": "markdown",
   "id": "fd26824b-d763-4b37-8228-8794915d4525",
   "metadata": {
    "slideshow": {
     "slide_type": "subslide"
    },
    "tags": []
   },
   "source": [
    "## บทนำ\n",
    "\n",
    "- ทฤษฎีทางฟิสิกส์\n",
    "- การวัดและความไม่แน่นอน\n",
    "- กำลังของสิบ"
   ]
  },
  {
   "cell_type": "markdown",
   "id": "729ed210-4242-4743-b486-a9b63eded21c",
   "metadata": {
    "slideshow": {
     "slide_type": "fragment"
    }
   },
   "source": [
    "## ทฤษฎีทางฟิสิกส์\n",
    "\n",
    "### หลักของการอนุรักษ์พลังงาน\n",
    "\n",
    "$$E = E_p + E_k$$\n",
    "\n",
    "$$E = E_p + E_k$$\n",
    "\n",
    "$$E = E_p + E_k$$\n",
    "\n",
    "$$E = E_p + E_k$$"
   ]
  }
 ],
 "metadata": {
  "celltoolbar": "Slideshow",
  "kernelspec": {
   "display_name": "Python 3 (ipykernel)",
   "language": "python",
   "name": "python3"
  },
  "language_info": {
   "codemirror_mode": {
    "name": "ipython",
    "version": 3
   },
   "file_extension": ".py",
   "mimetype": "text/x-python",
   "name": "python",
   "nbconvert_exporter": "python",
   "pygments_lexer": "ipython3",
   "version": "3.11.3"
  }
 },
 "nbformat": 4,
 "nbformat_minor": 5
}
