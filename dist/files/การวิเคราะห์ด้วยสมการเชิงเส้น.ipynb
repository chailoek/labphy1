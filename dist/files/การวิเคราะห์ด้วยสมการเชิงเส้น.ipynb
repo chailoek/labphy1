{
 "cells": [
  {
   "cell_type": "markdown",
   "id": "b05a7cb3-7180-4305-bf63-69f50627b09e",
   "metadata": {},
   "source": [
    "# การวิเคราะห์โดยอาศัยกราฟและสมการเชิงเส้น\n",
    "การตรวจสอบทฤษฎีโดยการทดลองจำเป็นต้องมีเครื่องมือสำหรับการวิเคราะห์ เครื่องมือที่นิยมใช้คือ สมการเชิงเส้น\n",
    "ในการตรวจสอบทฤษฎี จะมีข้อมูลของปริมาณที่ต้องการตรวจสอบ ข้อมูลชุดหนึ่งได้จากการทดลอง อีกชุดได้จากทฤษฎี \n",
    "หลักในการตรวจสอบคือ\n",
    "\n",
    "> พิจราณาความแตกต่างของข้อมูลสองชุดนี้ ถ้าความต่างไม่มากกว่าความไม่แน่นอนในการวัด \n",
    "ตัวทฤษฎีผ่านการตรวจสอบโดยการทดลองนี้\n",
    "\n",
    "เพื่อละความซับซ้อนในเรื่องจำนวนข้อมูล เรื่องความไม่แน่นอนในการวัด จะใช้ผลการวัดและทษฎีสมมุติเป็น\n",
    "ตัวอย่างผลการวัดปริมาณ $y$ ซึ่งขึ้นกับปริมาณ $x$ การทดลองทำโดยควบคุมปริมาณ $x$ ให้มีค่าแตกต่างกัน 3 \n",
    "ค่าและทำการวัดปริมาณ $y$ ความไม่แน่นอนในการควบคุม $x$ น้อยเมื่อเทียบกับความไม่แน่นอนของการวัด $y$\n",
    "และ ผลการวัด $y$ มีความไม่แน่นอนเท่ากันคือ $\\pm 0.2$ สมมุติว่าทฤษฎีที่เรากำลังตรวจสอบ \n",
    "บอกว่า $y$ แปรผันตรงกับ $x$ $(y \\; \\alpha \\; x)$ โดยค่าคงที่ของการแปรผัน $m$ หรือ อัตราการเปลี่ยนแปลง\n",
    "ของ $y$ เที่ยบกับ $x$ คือ $m = 1$ โดยที่ค่าเริ่มต้น (ค่าของ $y$ ตอนที่ $x = 0$) คือ $y_0 = 0$ ซึ่งหมายความว่า สมการของทฤษฎีคือ\n",
    "> $$ y = x$$\n",
    "\n",
    "โค้ดใน เซลล์ถัดไปเป็นการนำข้อมูลจากการทดลองเก็บไว้ที่\n",
    "ตัวแปร x_data และ y_data"
   ]
  },
  {
   "cell_type": "code",
   "execution_count": 1,
   "id": "8ff8daeb-9536-4132-8501-23124224cf6e",
   "metadata": {
    "tags": []
   },
   "outputs": [
    {
     "data": {
      "text/markdown": [
       "\n",
       "ข้อมูลที่ใช้พิจารณา <br/>\n",
       "ตัวแปรต้น x_data  = [1.0 2.0 3.0] <br/>\n",
       "ตัวแปรตาม y_data = [1.1 2.1 2.9] $\\pm 0.2$\n"
      ],
      "text/plain": [
       "<IPython.core.display.Markdown object>"
      ]
     },
     "execution_count": 1,
     "metadata": {},
     "output_type": "execute_result"
    }
   ],
   "source": [
    "from labutils import * # นำเข้าเครื่องมือที่เป็นประโยนช์ (ดูรายละเอียดในไฟล์ labutils.py)\n",
    "# ป้อนข้อมูลเก็บไว้ในหน่่วยควจำในรูปแบบของ numpy array\n",
    "x_data = np.array([1.0, 2.0, 3.0])\n",
    "y_data = np.array([1.1, 2.1, 2.9])\n",
    "y_err = 0.2\n",
    "## แสดงผลข้อมูลใน เซลล์แสดงผล\n",
    "Markdown(f\"\"\"\n",
    "ข้อมูลที่ใช้พิจารณา <br/>\n",
    "ตัวแปรต้น x_data  = {x_data} <br/>\n",
    "ตัวแปรตาม y_data = {y_data} $\\pm 0.2$\n",
    "\"\"\")"
   ]
  },
  {
   "cell_type": "code",
   "execution_count": 2,
   "id": "6987133e-af6d-4c5a-90cf-2973204b9dd2",
   "metadata": {
    "tags": []
   },
   "outputs": [
    {
     "data": {
      "image/png": "[encoded data removed]",
      "text/plain": [
       "<Figure size 640x480 with 1 Axes>"
      ]
     },
     "metadata": {},
     "output_type": "display_data"
    }
   ],
   "source": [
    "# ทำกราฟของข้อมูล\n",
    "plt.scatter(x_data, y_data)\n",
    "plt.errorbar(x_data, y_data, yerr=y_err, fmt=\" \")\n",
    "plt.title(\"กราฟที่ 1 ข้อมูล $x, y$\")\n",
    "plt.legend([\"ข้อมูล\", \"ความไม่แน่นอนของ $y$\"])\n",
    "plt.axis([0,4,-1, 4]);"
   ]
  },
  {
   "cell_type": "markdown",
   "id": "a53a4182-b6fe-4419-badf-c2be1530f6c7",
   "metadata": {},
   "source": [
    "## การวิเคราะห์\n",
    "การวิเคราะห์นี้อาศัย สมการเชิงเส้น เป็นเครื่องมือในการวิเคราะห์เครื่องมือนี้มีอยู่ใน ชุดเครื่องมือ sympy\n",
    "ซึ่งได้นำเขามาแล้วในเซลล์ก่อนหน้านี้ การกำหนดสมการทำในเซลล์ถัดไปซึ่งจะได้สมการ (A) "
   ]
  },
  {
   "cell_type": "code",
   "execution_count": 3,
   "id": "427aa94e-3a4d-4d60-8851-c028030d8072",
   "metadata": {
    "tags": []
   },
   "outputs": [
    {
     "data": {
      "text/markdown": [
       " \n",
       "$y = m x + y_{0}  \\qquad (A)$<br/>\n",
       "$\\quad m \\; คืออัตราเปลี่ยนแปลงของ \\;y \\;เทียบกับ\\; x \\;(หรือ ความชันของเส้นตรง)$<br/>\n",
       "$\\quad y_0 \\; คือค่าเริ่มต้น (หรือ จุดตัดแกน \\;y) $<br/>\n"
      ],
      "text/plain": [
       "<IPython.core.display.Markdown object>"
      ]
     },
     "execution_count": 3,
     "metadata": {},
     "output_type": "execute_result"
    }
   ],
   "source": [
    "# กำหนดสัญญลักษ์สำหรับสร้างสมการโดย ฟังก์ชัน symbols ในชุดเครื่องมือ syspy\n",
    "m, y_0, x , y = symbols('m y_0 x , y')\n",
    "# สร้างสมการโดยใช้ ฟังก์ชัน Eq\n",
    "สมการเชิงเส้น = Eq(y, m*x + y_0)\n",
    "# แสดงสมการ\n",
    "\n",
    "Markdown(f\"\"\" \n",
    "${latex(สมการเชิงเส้น)}  \\qquad (A)$<br/>\n",
    "$\\quad m \\; คืออัตราเปลี่ยนแปลงของ \\;y \\;เทียบกับ\\; x \\;(หรือ ความชันของเส้นตรง)$<br/>\n",
    "$\\quad y_0 \\; คือค่าเริ่มต้น (หรือ จุดตัดแกน \\;y) $<br/>\n",
    "\"\"\")\n"
   ]
  },
  {
   "cell_type": "markdown",
   "id": "685122d2-3db7-4bcc-8985-3dd3152b46ee",
   "metadata": {},
   "source": [
    "ใช้สมการ A และ ข้อมูลจากการทดลองสร้างระบบสมการโดยแทน ข้อมูล x และ y ในสมการ A\n",
    "ซึ่งจะได้ระบบสมการที่ 1"
   ]
  },
  {
   "cell_type": "code",
   "execution_count": 4,
   "id": "ae79af13-36e9-444a-8d21-08792bd11c71",
   "metadata": {
    "tags": []
   },
   "outputs": [
    {
     "data": {
      "text/markdown": [
       "\n",
       "### ระบบสมการที่ 1 (ระบบสมการเชิงเส้น)\n",
       "$1.1 = 1.0 m + y_{0}  \\qquad (1)$ <br/>\n",
       "$2.1 = 2.0 m + y_{0}  \\qquad (2)$ <br/>\n",
       "$2.9 = 3.0 m + y_{0}  \\qquad (3)$ <br/>\n"
      ],
      "text/plain": [
       "<IPython.core.display.Markdown object>"
      ]
     },
     "execution_count": 4,
     "metadata": {},
     "output_type": "execute_result"
    }
   ],
   "source": [
    "# แทนข้อมูลที่ได้จากการทดลองลงในสมการ A โดยใช้ฟังก์ชั้น subs (ย่อมาก substitute)\n",
    "สมการ1 = สมการเชิงเส้น.subs([(x,x_data[0]), (y,y_data[0])])\n",
    "สมการ2 = สมการเชิงเส้น.subs([(x,x_data[1]), (y,y_data[1])])\n",
    "สมการ3 = สมการเชิงเส้น.subs([(x,x_data[2]), (y,y_data[2])])\n",
    "# แสดงระบบสมการ\n",
    "Markdown(f\"\"\"\n",
    "### ระบบสมการที่ 1 (ระบบสมการเชิงเส้น)\n",
    "${latex(สมการ1)}  \\qquad (1)$ <br/>\n",
    "${latex(สมการ2)}  \\qquad (2)$ <br/>\n",
    "${latex(สมการ3)}  \\qquad (3)$ <br/>\n",
    "\"\"\")"
   ]
  },
  {
   "cell_type": "markdown",
   "id": "3bd75b55-4e19-4a67-b139-1a84840d472e",
   "metadata": {},
   "source": [
    "ระบบสมการนี้เป็นระบบ สามสมการ สองตัวแปร ถ้ามองในแง่ของกราฟคำตอบระบบสมการนี้คือ\n",
    "เส้นตรงหนึ่งที่มีค่าความชัน ค่าหนึ่งคือ $m$ และ จุดตัดแกนจุดหนึ่ง $y_0$ ซึ่งยังไม่ทราบค่า หรือ \n",
    "กล่าวได้ว่าเป็นตัวแปรของระบบสมการ ถ้าเราย้อนกลับไปพิจารณากราฟที่ 1 จะเห็นได้ว่า\n",
    "จุดข้อมูล $x$ $y$ ไม่เรียงตัวอยู่บนเส้นตรงเดียวกัน ดังนั้นระบบสมการนี้ไม่มีความตอบ\n",
    "นอกจากมองในแง่ของกราฟเราสามารถมองในแง่ของระบบสมการเชิงเส้นได้ กล่าวคือระบบสมการเชิงเส้น\n",
    "จะมีคำตอบเมื่อ เป็นระบบที่มีจำนวนสมการเท่ากับจะนวนตัวแปร ในกรณีนี้ไม่ใช้เราต้องเพิ่มอีกหนึ่งตัวแปร\n",
    "หรือไม่ก็ตัดออกหนึ่งสมการ\n",
    "\n",
    "การแก้ปัญหาโดยการตัดสมการออก หรือ เพิ่มตัวแปรเข้าไป ยังไม่ใช้การแก้ปัญหาที่ดีที่สุด\n",
    "การแก้ปัญหาที่ดีกว่าคือ ไม่ต้องตัดออกหรือเพิ่มเข้า การแก้ปัญหาด้วยวิธีนี้ทำได้โดยอาศัย ความคิดหนึ่งใน\n",
    "คณิตศาตร์ คือ เมตริก เราจะเปลี่ยนระบบสามสมการ เป็น สมการของเมตริก โดยเปลี่ยนสามค่าของ $y$ ทาง\n",
    "ด้านซ้ายเป็น เมตริก $b$ เปลี่ยนตัวแปรของสมการ $m$ $y_0$ เป็นเมตริก $c$ และ เปลี่ยนค่าที่คูณอยู่กับตัวแปร\n",
    "เป็นเมตริก A โดยอาศัยเครื่องมือที่มีอยู่ใน numpy คือ ฟังก์ชัน Matrix ดังแสดงในเซลล์ถัดไป"
   ]
  },
  {
   "cell_type": "code",
   "execution_count": 10,
   "id": "aacdcfcc-3471-4d10-8b80-8d4eae445348",
   "metadata": {
    "tags": []
   },
   "outputs": [
    {
     "data": {
      "text/markdown": [
       "\n",
       "ระบบสมการในรูป เมตริก<br/><br/>\n",
       "$\\left[\\begin{matrix}1.1\\\\2.1\\\\2.9\\end{matrix}\\right] = \\left[\\begin{matrix}1.0 m + y_{0}\\\\2.0 m + y_{0}\\\\3.0 m + y_{0}\\end{matrix}\\right]$ <br/><br/>\n",
       "เขียนทางด้ายขวาในรูปของผลคูณ Ac<br/><br/>\n",
       "$\\left[\\begin{matrix}1.1\\\\2.1\\\\2.9\\end{matrix}\\right] = \\left[\\begin{matrix}1.0 & 1\\\\2.0 & 1\\\\3.0 & 1\\end{matrix}\\right] \\left[\\begin{matrix}m\\\\y_{0}\\end{matrix}\\right]$ <br/><br/>\n",
       "เขียนรูปสัญญลักษ (เพื่อทำพีชคณิตของเมตริก)<br/><br/>\n",
       "$b = Ac \\qquad (4)$ <br/>\n",
       "เมื่อ <br/>\n",
       "$\\quad b = \\left[\\begin{matrix}1.1\\\\2.1\\\\2.9\\end{matrix}\\right]$\n",
       "$\\quad A = \\left[\\begin{matrix}1.0 & 1\\\\2.0 & 1\\\\3.0 & 1\\end{matrix}\\right]$\n",
       "$\\quad c = \\left[\\begin{matrix}m\\\\y_{0}\\end{matrix}\\right]$\n"
      ],
      "text/plain": [
       "<IPython.core.display.Markdown object>"
      ]
     },
     "execution_count": 10,
     "metadata": {},
     "output_type": "execute_result"
    }
   ],
   "source": [
    "A = Matrix([x_data,[1,1,1]]).transpose()\n",
    "b = Matrix(y_data)\n",
    "c = Matrix([m,y_0])\n",
    "ระบบสมการ2 = Eq(b, A*c)\n",
    "Markdown(f\"\"\"\n",
    "ระบบสมการในรูป เมตริก<br/><br/>\n",
    "${latex(ระบบสมการ2)}$ <br/><br/>\n",
    "เขียนทางด้ายขวาในรูปของผลคูณ Ac<br/><br/>\n",
    "${latex(b)} = {latex(A)} {latex(c)}$ <br/><br/>\n",
    "เขียนรูปสัญญลักษ (เพื่อทำพีชคณิตของเมตริก)<br/><br/>\n",
    "$b = Ac \\qquad (4)$ <br/>\n",
    "เมื่อ <br/>\n",
    "$\\quad b = {latex(b)}$\n",
    "$\\quad A = {latex(A)}$\n",
    "$\\quad c = {latex(c)}$\n",
    "\"\"\")"
   ]
  },
  {
   "cell_type": "markdown",
   "id": "fb191882-307c-49a4-92bf-d81dacb31a65",
   "metadata": {},
   "source": [
    "หลังจากได้สมการของเมตริก A เราจะอาศัยความจริงทางคณิตศาสตร์ กล่าวคือ สองเมตริกที่เท่ากันใน\n",
    "กรณีนึ้เคือ เมตริก $b$ เท่ากับเมตริก $Ac$ เมื่อถูกคูณด้วยเมตริกเดียวกันในกรณีนี้ คือ $A^T$ หลังจากคูณแล้ว\n",
    "เมตริกผลคูณยังเท่ากันอยู่ หรือเขียนเป็นสมการได้ว่า <br/><br/>\n",
    "$A^Tb = A^TAc \\qquad (5)$<br/>"
   ]
  },
  {
   "cell_type": "code",
   "execution_count": 6,
   "id": "9d3a8f01-7be6-42ff-bf4b-3e059c0ac865",
   "metadata": {
    "tags": []
   },
   "outputs": [
    {
     "data": {
      "text/markdown": [
       "\n",
       "ทรานสโพสของเมตริก $A$\n",
       "ซึ่งแทนด้วยสัญญลักษ์ $A^T$ หมายความว่ากลับแถวและหลักของ $A$ หรือกล่าวได้ว่า\n",
       "สร้างแถวของ $A^T$ จากหลักของ $A$ และ สร้างหลักของ $A^T$ จากจากแถวของ $A$ ดังแสดง<br/><br/>\n",
       "$A = \\left[\\begin{matrix}1.0 & 1\\\\2.0 & 1\\\\3.0 & 1\\end{matrix}\\right] \\qquad  A^T = \\left[\\begin{matrix}1.0 & 2.0 & 3.0\\\\1 & 1 & 1\\end{matrix}\\right]$<br/><br/>\n",
       "เขียนสมการ (5) ในรูปของสมาชิกของเมตริกจะได้<br/><br/>\n",
       "$\\left[\\begin{matrix}1.0 & 2.0 & 3.0\\\\1 & 1 & 1\\end{matrix}\\right] \\left[\\begin{matrix}1.1\\\\2.1\\\\2.9\\end{matrix}\\right] = \\left[\\begin{matrix}1.0 & 2.0 & 3.0\\\\1 & 1 & 1\\end{matrix}\\right]\\left[\\begin{matrix}1.0 & 1\\\\2.0 & 1\\\\3.0 & 1\\end{matrix}\\right]\\left[\\begin{matrix}m\\\\y_{0}\\end{matrix}\\right]$<br/><br/>\n",
       "คูณเมตริกทางด้ายซ้าย และ สองเมตริกแรกทางด้านขวาจะได้<br/><br/>\n",
       "$\\left[\\begin{matrix}14.0\\\\6.1\\end{matrix}\\right] = \\left[\\begin{matrix}14.0 & 6.0\\\\6.0 & 3\\end{matrix}\\right]\\left[\\begin{matrix}m\\\\y_{0}\\end{matrix}\\right]$<br/><br/>\n",
       "คูณเมตริกสองตัวทางด้านขาวสุดท้ายจะได้สมการของเมตริก<br/><br/>\n",
       "$\\left[\\begin{matrix}14.0\\\\6.1\\end{matrix}\\right] = \\left[\\begin{matrix}14.0 m + 6.0 y_{0}\\\\6.0 m + 3 y_{0}\\end{matrix}\\right]$<br/><br/>\n",
       "จะเห็นว่าสมการที่ได้นี้เป็นระบบสมการ สองสมการ สองตัวแปร สามารถหาคำตอบได้โดยอาศัย ฟังก์ชัน solve ซึ่งเป็นเครื่องมือหนึ่ง\n",
       "ในโมดูล sympy ดังแสดงใน เซลล์ถัดไป\n"
      ],
      "text/plain": [
       "<IPython.core.display.Markdown object>"
      ]
     },
     "execution_count": 6,
     "metadata": {},
     "output_type": "execute_result"
    }
   ],
   "source": [
    "Markdown(f\"\"\"\n",
    "ทรานสโพสของเมตริก $A$\n",
    "ซึ่งแทนด้วยสัญญลักษ์ $A^T$ หมายความว่ากลับแถวและหลักของ $A$ หรือกล่าวได้ว่า\n",
    "สร้างแถวของ $A^T$ จากหลักของ $A$ และ สร้างหลักของ $A^T$ จากจากแถวของ $A$ ดังแสดง<br/><br/>\n",
    "$A = {latex(A)} \\qquad  A^T = {latex(A.transpose())}$<br/><br/>\n",
    "เขียนสมการ (5) ในรูปของสมาชิกของเมตริกจะได้<br/><br/>\n",
    "${latex(A.transpose())} {latex(b)} = {latex(A.transpose())}{latex(A)}{latex(c)}$<br/><br/>\n",
    "คูณเมตริกทางด้ายซ้าย และ สองเมตริกแรกทางด้านขวาจะได้<br/><br/>\n",
    "${latex(A.transpose()*b)} = {latex(A.transpose()*A)}{latex(c)}$<br/><br/>\n",
    "คูณเมตริกสองตัวทางด้านขาวสุดท้ายจะได้สมการของเมตริก<br/><br/>\n",
    "${latex(A.transpose()*b)} = {latex(A.transpose()*A*c)}$<br/><br/>\n",
    "จะเห็นว่าสมการที่ได้นี้เป็นระบบสมการ สองสมการ สองตัวแปร สามารถหาคำตอบได้โดยอาศัย ฟังก์ชัน solve ซึ่งเป็นเครื่องมือหนึ่ง\n",
    "ในโมดูล sympy ดังแสดงใน เซลล์ถัดไป\n",
    "\"\"\")"
   ]
  },
  {
   "cell_type": "code",
   "execution_count": 7,
   "id": "f5319d0f-b9b5-4eaa-a678-4f96ab8e13ec",
   "metadata": {
    "tags": []
   },
   "outputs": [
    {
     "data": {
      "text/markdown": [
       "$$m = 0.9 \\qquad y_0 = 0.2$$"
      ],
      "text/plain": [
       "<IPython.core.display.Markdown object>"
      ]
     },
     "execution_count": 7,
     "metadata": {},
     "output_type": "execute_result"
    }
   ],
   "source": [
    "ระบบสมการ3 = Eq(A.transpose()*b, A.transpose()*A*c)\n",
    "คำตอบ = solve(ระบบสมการ3, [m, y_0])\n",
    "Markdown(f\"$$m = {คำตอบ[m]:.1f} \\qquad y_0 = {คำตอบ[y_0]:.1f}$$\")"
   ]
  },
  {
   "cell_type": "markdown",
   "id": "c538432d-abe9-4223-ba90-08eccb3895aa",
   "metadata": {},
   "source": [
    "จากการนำข้อมูลมวิเคราะห์ทราบว่าเส้นตรงที่ดีที่สุดที่แทนจุดข้อมมูลมี ความชัน 0.9 และ มีจุดตัดแกน y 0.2 ดังแสดงในกราฟที่ 2"
   ]
  },
  {
   "cell_type": "code",
   "execution_count": 8,
   "id": "26f22716-661b-43fa-a497-0853773e1f76",
   "metadata": {
    "tags": []
   },
   "outputs": [],
   "source": [
    "# นิยามฟังก์ชัน fy สำหรับทำกราฟเส้นตรง ฟังก์ชันนี้จะต้องป้อน\n",
    "# ข้อมูล ต่อไปจะเรียกข้อมูลที่ป้อนเข้าฟังก์ชันว่า อาร์กิวเมนต์ \n",
    "# อาร์กิวเมนต์แรกของ fy คือ ค่าของตัวแปรอิสระ \n",
    "# อาร์กิวเมนต์ที่เหลือ คือ ความชัน m และ จุดตัดแกน y คือ y_0\n",
    "\n",
    "def fy(x, m, y_0):\n",
    "    return m*x + y_0"
   ]
  },
  {
   "cell_type": "code",
   "execution_count": 9,
   "id": "393f7b3f-cca7-4d99-9147-edc71627401d",
   "metadata": {},
   "outputs": [
    {
     "data": {
      "image/png": "[encoded data removed]",
      "text/plain": [
       "<Figure size 640x480 with 1 Axes>"
      ]
     },
     "metadata": {},
     "output_type": "display_data"
    }
   ],
   "source": [
    "# กำหนดช่วงของตัวแปรอิสระ คือ เริ่มจาก 0 ถึง 5 โดยเพิ่มขึ้นที่ละ 0.5 (หรือ 5/10)\n",
    "x = np.linspace(0,5,10)\n",
    "plt.scatter(x_data, y_data)\n",
    "plt.plot(x, fy(x,คำตอบ[m],คำตอบ[y_0]))\n",
    "plt.errorbar(x_data, y_data, yerr=0.2, fmt=\" \")\n",
    "plt.title(\"กราฟที่ 2 \\n ความสัมพันธ์ระหว่าง x กับ y\")\n",
    "plt.legend([\"ข้อมูล x_data, y_data\", f\"เส้นตรง m = {คำตอบ[m]:.1f} y_0 = {คำตอบ[y_0]:.1f}\", \"ความไม่แน่นอนของ y\"])\n",
    "plt.axis([0,4,-1, 4]);"
   ]
  },
  {
   "cell_type": "markdown",
   "id": "e3d0400e-453c-4992-aed5-84dad8c3d636",
   "metadata": {},
   "source": [
    "## สรุป"
   ]
  },
  {
   "cell_type": "markdown",
   "id": "bdc8a670-43ce-4153-8a1c-68a6c5b9ca0e",
   "metadata": {},
   "source": [
    "จากการการทดลองทราบว่า อัตราการเปลี่ยนแปลงของตัวแปรตามเทียบกับตัวแปรอิสระมีค่า $m$ = 0.9 และ ค่าเริ่มต้นของตัวแปรตาม $y$ มีค่า 0.2 ผลการทดลองนี้ต่างจากค่าจากทฤษฎีไม่เกินความไม่แน่นอนในการวัด กล่าวคือ ทฤษฎีบอกว่าอัตราการเปลียนแปลงคือ 1 มากกว่าค่าการทดลองคือ 0.9 ไป 0.1 ซึ่งไม่เกินความไม่แน่นอนในการวัด 0.2 สำหรับจุดตัดแกนก็เช่นกันค่าไม่ต่างกันมากกว่า 0.2 ซึ่งหมายความว่า ความต่างนี้ไม่มีนัยสำคัญกล่าว คือ ทฤษฎีนี้ถูกต้องในช่วงตัวแปรต้นคือ $x$ ในช่วง 0 ถึง 3"
   ]
  },
  {
   "cell_type": "code",
   "execution_count": null,
   "id": "92bc61f9-24cf-41aa-bdf6-2af43bdc3ccf",
   "metadata": {},
   "outputs": [],
   "source": []
  }
 ],
 "metadata": {
  "kernelspec": {
   "display_name": "Python 3 (ipykernel)",
   "language": "python",
   "name": "python3"
  },
  "language_info": {
   "codemirror_mode": {
    "name": "ipython",
    "version": 3
   },
   "file_extension": ".py",
   "mimetype": "text/x-python",
   "name": "python",
   "nbconvert_exporter": "python",
   "pygments_lexer": "ipython3",
   "version": "3.11.3"
  }
 },
 "nbformat": 4,
 "nbformat_minor": 5
}
