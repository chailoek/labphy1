{
 "cells": [
  {
   "attachments": {},
   "cell_type": "markdown",
   "id": "bf92458d-e434-44df-ba32-816f035122c4",
   "metadata": {
    "slideshow": {
     "slide_type": "slide"
    },
    "tags": []
   },
   "source": [
    "## <h1 style=\"text-align: center;\"> เลขนัยสำคัญและเครื่องมือวัดความยาวอย่างละเอียด</h1>"
   ]
  },
  {
   "cell_type": "code",
   "execution_count": null,
   "id": "2367d5b5",
   "metadata": {},
   "outputs": [],
   "source": [
    "%matplotlib widget\n",
    "import matplotlib as mpl\n",
    "mpl.font_manager.fontManager.addfont(\"fonts/LeelawUI.ttf\")\n",
    "mpl.rc('font', family=\"Leelawadee UI\")\n",
    "import matplotlib.pyplot as plt\n",
    "import numpy as np\n",
    "plt.style.use('fonts/phy1.mplstyle')"
   ]
  }
 ],
 "metadata": {
  "celltoolbar": "Slideshow",
  "kernelspec": {
   "display_name": "Python 3 (ipykernel)",
   "language": "python",
   "name": "python3"
  },
  "language_info": {
   "codemirror_mode": {
    "name": "ipython",
    "version": 3
   },
   "file_extension": ".py",
   "mimetype": "text/x-python",
   "name": "python",
   "nbconvert_exporter": "python",
   "pygments_lexer": "ipython3",
   "version": "3.11.3"
  }
 },
 "nbformat": 4,
 "nbformat_minor": 5
}
